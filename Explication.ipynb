{
 "cells": [
  {
   "cell_type": "markdown",
   "metadata": {},
   "source": [
    "PROJET ECHANGE ARE"
   ]
  },
  {
   "cell_type": "code",
   "execution_count": null,
   "metadata": {
    "vscode": {
     "languageId": "plaintext"
    }
   },
   "outputs": [],
   "source": [
    "Nous sommes face à une population qui se situe dans un environnement d'échange. Un jeu est proposé à tout les individus de la population. Il consiste en:\n",
    "- Une confrontation de confiance entre deux individus\n",
    "- Si deux individu accepte de mettre de miser une pièce, les deux individus en recoivent en retour un certain nombre que l'on notera <gain>\n",
    "- Si deux individu refusent de mettre des pieces, aucune pièce n'est renvoyé en retour\n",
    "- Si seul un des deux individus ne met pas de pièce, il en recoit 3 en retour, l'autre en pert donc une (sa mise).\n",
    "\n",
    "L'objectif est d'analyser l'évolution de la population et des metriques individuelles au cour du jeu.\n",
    "\n",
    "On proposera deux jeux, l'un consistant à un échange simultané de chaque personne avec chaque autre personne.\n",
    "L'autre à l'échange de toute la population avec seulement un autre individu. L'échange resultera en des évolutions qui amènera l'individu à échanger avec une autre (ou pas) au tour suivant.\n",
    "\n",
    "\n",
    "On établit dans un premier temps les différents éléments qui vont constituer notre projet. On s'appuie ici sur la définition de :\n",
    "- Une Partie\n",
    "- Un Tour \n",
    "- Un Joueurs\n",
    "- Un Echange\n",
    "\n",
    "\n",
    "Pour répondre à cette nécessité de définition on n'utilisera les classes en python.\n",
    "\n",
    "On définira alors une classe pour chaque élement.\n",
    "\n",
    "La classe Partie se définie par:\n",
    "    - Une liste de Joueurs\n",
    "    - Un nombre de Tour\n",
    "    - Une répartition de stratégie (potentiellement modifiable par l'utilisateur)\n",
    "\n",
    "\n",
    "La classe Tour est à définir en fonction du besoin.\n",
    "\n",
    "La classe Joueur se définie par :\n",
    "    - Une identité (noté identifiant)\n",
    "    - Un portefeuille\n",
    "    - Un historique des transactions effectuées\n",
    "\n",
    "\n",
    "La classe Echange se définie par :\n",
    "    - Deux Joueurs identifiables\n",
    "    - Un gagnant\n",
    "    - Un résumé de la transaction\n"
   ]
  },
  {
   "cell_type": "code",
   "execution_count": null,
   "metadata": {
    "vscode": {
     "languageId": "plaintext"
    }
   },
   "outputs": [],
   "source": []
  }
 ],
 "metadata": {
  "language_info": {
   "name": "python"
  }
 },
 "nbformat": 4,
 "nbformat_minor": 2
}
