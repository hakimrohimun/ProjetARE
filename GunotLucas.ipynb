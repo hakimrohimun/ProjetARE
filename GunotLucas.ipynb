{
 "cells": [
  {
   "cell_type": "code",
   "execution_count": 22,
   "id": "43e5dfce-0421-49d7-8ded-7a542cada1f0",
   "metadata": {},
   "outputs": [
    {
     "name": "stdout",
     "output_type": "stream",
     "text": [
      "Joueur 0 joue\n",
      "Joueur 1 joue\n",
      "Joueur 2 joue\n",
      "Joueur 3 joue\n",
      "Joueur 4 joue\n",
      "Joueur 5 joue\n",
      "Joueur 6 joue\n",
      "Joueur 7 joue\n",
      "Joueur 8 joue\n",
      "Joueur 9 joue\n"
     ]
    }
   ],
   "source": [
    "from random import random, choice\n",
    "\n",
    "class Joueur:\n",
    "    liste_strategie = ['confiance', 'tricheur']\n",
    "\n",
    "    def __init__(self, portefeuille_init, identifiant):\n",
    "        self.identifiant = identifiant\n",
    "        self.portefeuille_init = portefeuille_init\n",
    "        self.portefeuille = portefeuille_init \n",
    "        self.strategie = choice(self.liste_strategie)\n",
    "\n",
    "    def solde(self, resultat):\n",
    "        self.portefeuille += resultat\n",
    "\n",
    "    def __str__(self):\n",
    "        return f'Joueur n°{self.identifiant} => Solde : {self.portefeuille}'\n",
    "\n",
    "    def facteur_risque(self):\n",
    "        perte = (self.portefeuille_init - self.portefeuille) / self.portefeuille_init\n",
    "        facteur = min(perte, 1)  \n",
    "        return facteur\n",
    "        \n",
    "\n",
    "class Partie:\n",
    "    def __init__(self, nb_joueurs, portefeuille_init):\n",
    "        self.lst_joueurs = [Joueur(portefeuille_init, i) for i in range(nb_joueurs)]\n",
    "\n",
    "def strat_risque_joueur(lst_joueurs):\n",
    "    \"\"\" foncton de stratégie de jeu ,prend une liste de joeurs en entrée : plus le joueur perd de son portefeuille, \n",
    "    moins il joue\"\"\"\n",
    "    decisions = []\n",
    "    for joueur in lst_joueurs:\n",
    "        \n",
    "        facteur_risque = joueur.facteur_risque()\n",
    "        proba_de_jouer = 1 - facteur_risque\n",
    "        \n",
    "        if random() < proba_de_jouer:\n",
    "            decisions.append(True)\n",
    "        else:\n",
    "            decisions.append(False)\n",
    "    return decisions\n",
    "            \n",
    "\n",
    "\n",
    "new_game = Partie(10, 20)\n",
    "decisions = strat_risque_joueur(new_game.lst_joueurs)\n",
    "\n",
    "for i, decision in enumerate(decisions):\n",
    "    print(f\"Joueur {i} {'joue' if decision else 'ne joue pas'}\")\n",
    "      \n",
    "    "
   ]
  },
  {
   "cell_type": "code",
   "execution_count": null,
   "id": "1930088e-89e0-47f4-a633-6556a5e414c5",
   "metadata": {},
   "outputs": [],
   "source": [
    "\n",
    "    "
   ]
  },
  {
   "cell_type": "code",
   "execution_count": null,
   "id": "a567b79e-ff94-4040-861a-8f1861ef8553",
   "metadata": {},
   "outputs": [],
   "source": []
  }
 ],
 "metadata": {
  "kernelspec": {
   "display_name": "Python 3 (ipykernel)",
   "language": "python",
   "name": "python3"
  },
  "language_info": {
   "codemirror_mode": {
    "name": "ipython",
    "version": 3
   },
   "file_extension": ".py",
   "mimetype": "text/x-python",
   "name": "python",
   "nbconvert_exporter": "python",
   "pygments_lexer": "ipython3",
   "version": "3.12.4"
  }
 },
 "nbformat": 4,
 "nbformat_minor": 5
}
