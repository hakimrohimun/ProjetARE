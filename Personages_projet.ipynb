{
 "cells": [
  {
   "cell_type": "code",
   "execution_count": 1,
   "id": "6227ea97-5451-48ac-be3c-c53cc13ba9e6",
   "metadata": {},
   "outputs": [],
   "source": [
    "import random\n",
    "# Variables :\n",
    "taille = 10\n",
    "mise = 1\n",
    "gain = 2\n",
    "gain_triche = 3"
   ]
  },
  {
   "cell_type": "code",
   "execution_count": 55,
   "id": "4cddf71b-7025-4da2-910f-062151c3a2ec",
   "metadata": {},
   "outputs": [],
   "source": [
    "# True -> l'individu met une pièce\n",
    "# False -> l'individu ne met pas de pièce\n",
    "\n",
    "def gentil(reponse):\n",
    "    \"\"\"l'individu qui met tout le temps une pièce\"\"\"\n",
    "    return True\n",
    "\n",
    "def mechant(reponse):\n",
    "    \"\"\"l'individu qui ne met jamais de pièce\"\"\"\n",
    "    return False\n",
    "\n",
    "def aleatoire(reponse):\n",
    "    \"\"\"l'individu qui décide aléatoirement de mettre ou non une pièce\"\"\"\n",
    "    if random.random()*2 >=1:\n",
    "        return True\n",
    "    return False\n",
    "\n",
    "def copieur(reponse):\n",
    "    \"\"\"l'individu qui commence par mettre une pièce, puis en met une pièce si la personne en face en a mis une au tour précédent\"\"\"\n",
    "    if reponse or reponse == None:\n",
    "        return True\n",
    "    return False\n",
    "\n"
   ]
  },
  {
   "cell_type": "code",
   "execution_count": 56,
   "id": "67e6dd6f-d9fd-4c80-b89b-7b044992fe01",
   "metadata": {},
   "outputs": [],
   "source": [
    "def echange(perso1,argent1,perso2,argent2):\n",
    "    \"\"\"simulation d'un échange entre deux individus\"\"\"\n",
    "    r_perso1 = None\n",
    "    r_perso2 = None\n",
    "    if perso1(r_perso2):\n",
    "        if perso2(r_perso1):\n",
    "            print(\"Les deux individus ont mis une pièce\")\n",
    "            return (argent1 + gain, argent2 + gain)\n",
    "        print(\"perso2 a triché\")\n",
    "        return (argent1 - mise, argent2 + gain_triche)\n",
    "    if perso2(r_perso1):\n",
    "        print(\"perso1 a triché\")\n",
    "        return (argent1 + gain_triche, argent2 - mise)\n",
    "    print(\"les deux individus ont triché\")\n",
    "    return (argent1, argent2)\n",
    "            "
   ]
  },
  {
   "cell_type": "code",
   "execution_count": 63,
   "id": "861ae70d-4ce9-40ac-ac71-0b7440742d8a",
   "metadata": {},
   "outputs": [
    {
     "name": "stdout",
     "output_type": "stream",
     "text": [
      "Les deux individus ont mis une pièce\n"
     ]
    },
    {
     "data": {
      "text/plain": [
       "(12, 12)"
      ]
     },
     "execution_count": 63,
     "metadata": {},
     "output_type": "execute_result"
    }
   ],
   "source": [
    "echange(aleatoire,10,copieur,10)"
   ]
  },
  {
   "cell_type": "code",
   "execution_count": 72,
   "id": "4dcb3179-b403-4a32-abff-fa29d8a9732d",
   "metadata": {},
   "outputs": [],
   "source": [
    "def tour_echange(perso1,argent1,perso2,argent2,nb_echanges):\n",
    "    \"\"\"simulation de nb_echanges entre deux individus (ne fonctionne pas avec la fonction \"copieur\")\"\"\"\n",
    "    r_perso1 = None\n",
    "    r_perso2 = None\n",
    "    x,y = echange(perso1,argent1,perso2,argent2)\n",
    "    for i in range(nb_echanges-1):\n",
    "        x,y = echange(perso1,x,perso2,y)\n",
    "        if x <= 0:\n",
    "            return (\"perso1 ne peut plus jouer\",(0,y))\n",
    "        if y <= 0:\n",
    "            return (\"perso2 ne peut plus jouer\",(x,0))   \n",
    "    return (x,y)\n",
    "        "
   ]
  },
  {
   "cell_type": "code",
   "execution_count": 87,
   "id": "3e58928c-5363-4e6b-a31a-ae425aaf71e5",
   "metadata": {},
   "outputs": [
    {
     "name": "stdout",
     "output_type": "stream",
     "text": [
      "perso2 a triché\n",
      "perso2 a triché\n",
      "perso2 a triché\n",
      "perso2 a triché\n",
      "perso2 a triché\n",
      "perso2 a triché\n",
      "perso2 a triché\n",
      "perso2 a triché\n",
      "perso2 a triché\n",
      "perso2 a triché\n"
     ]
    },
    {
     "data": {
      "text/plain": [
       "('perso1 ne peut plus jouer', (0, 40))"
      ]
     },
     "execution_count": 87,
     "metadata": {},
     "output_type": "execute_result"
    }
   ],
   "source": [
    "tour_echange(copieur,10,mechant,10,11)"
   ]
  },
  {
   "cell_type": "code",
   "execution_count": null,
   "id": "e4ab2a55-0986-48b5-ad9e-c996dfb88475",
   "metadata": {},
   "outputs": [],
   "source": []
  }
 ],
 "metadata": {
  "kernelspec": {
   "display_name": "Python 3 (ipykernel)",
   "language": "python",
   "name": "python3"
  },
  "language_info": {
   "codemirror_mode": {
    "name": "ipython",
    "version": 3
   },
   "file_extension": ".py",
   "mimetype": "text/x-python",
   "name": "python",
   "nbconvert_exporter": "python",
   "pygments_lexer": "ipython3",
   "version": "3.11.2"
  }
 },
 "nbformat": 4,
 "nbformat_minor": 5
}
