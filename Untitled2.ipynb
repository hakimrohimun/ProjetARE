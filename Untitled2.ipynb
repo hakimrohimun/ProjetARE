{
 "cells": [
  {
   "cell_type": "code",
   "execution_count": null,
   "id": "0548574d-07fb-41c8-9a4c-7e409a5c5788",
   "metadata": {},
   "outputs": [],
   "source": [
    " \n",
    "\n",
    "            \n",
    "                                    \n",
    "                                    \n",
    "    "
   ]
  },
  {
   "cell_type": "code",
   "execution_count": 19,
   "id": "43e5dfce-0421-49d7-8ded-7a542cada1f0",
   "metadata": {},
   "outputs": [
    {
     "ename": "IndentationError",
     "evalue": "expected an indented block after 'for' statement on line 31 (2806420748.py, line 32)",
     "output_type": "error",
     "traceback": [
      "\u001b[1;36m  Cell \u001b[1;32mIn[19], line 32\u001b[1;36m\u001b[0m\n\u001b[1;33m    for i in joueur.portefeuille:\u001b[0m\n\u001b[1;37m    ^\u001b[0m\n\u001b[1;31mIndentationError\u001b[0m\u001b[1;31m:\u001b[0m expected an indented block after 'for' statement on line 31\n"
     ]
    }
   ],
   "source": [
    "\n",
    "from random import random\n",
    "class Joueur():\n",
    "    liste_strategie = ['confiance', 'tricheur']\n",
    "    def __init__(self, portefeuille_init,portefeuille, identifiant):\n",
    "        self.identifiant = identifiant\n",
    "        self.portefeuille = portefeuille\n",
    "        self.strategie = self.strategie(self.liste_strategie)\n",
    "        self.portefeuille_init = portefeuille_init\n",
    "\n",
    "    def solde(self, resultat):\n",
    "        self.portefeuille += resultat\n",
    "\n",
    "\n",
    "    def strategie(self, liste_strategie):\n",
    "        strategie = liste_strategie[int((random()*100)%(len(self.liste_strategie)))]\n",
    "        return strategie\n",
    "\n",
    "    def __str__(self):\n",
    "        return f'Joueur n°{self.identifiant} => Solde : {self.portefeuille}'\n",
    "from random import random \n",
    "\n",
    "\n",
    "def portefeuille_init(joueur):\n",
    "    return joueur.portefeuille\n",
    "\n",
    "new_game = Partie(18,50)\n",
    "\n",
    "def strat_risque_joeur(lst_joueurs):\n",
    "    lst_joueurs = new_game.lst_joueurs\n",
    "    \n",
    "\n",
    "    joueur.portefeuille = \n",
    "    for joueur in lst_joueurs:\n",
    "        for i in joueur.portefeuille:\n",
    "            if joueur.portefeuille_init >= joueur.portefeuille and joueur.portefeuille[i] >= 0.1*(joueur.portefeuille) :\n",
    "                return True\n",
    "    return False\n",
    "            \n",
    "\n",
    "\n",
    "                                    \n",
    "                                    \n",
    "    "
   ]
  },
  {
   "cell_type": "code",
   "execution_count": null,
   "id": "1930088e-89e0-47f4-a633-6556a5e414c5",
   "metadata": {},
   "outputs": [],
   "source": [
    "\n",
    "    "
   ]
  },
  {
   "cell_type": "code",
   "execution_count": null,
   "id": "a567b79e-ff94-4040-861a-8f1861ef8553",
   "metadata": {},
   "outputs": [],
   "source": []
  }
 ],
 "metadata": {
  "kernelspec": {
   "display_name": "Python 3 (ipykernel)",
   "language": "python",
   "name": "python3"
  },
  "language_info": {
   "codemirror_mode": {
    "name": "ipython",
    "version": 3
   },
   "file_extension": ".py",
   "mimetype": "text/x-python",
   "name": "python",
   "nbconvert_exporter": "python",
   "pygments_lexer": "ipython3",
   "version": "3.12.4"
  }
 },
 "nbformat": 4,
 "nbformat_minor": 5
}
