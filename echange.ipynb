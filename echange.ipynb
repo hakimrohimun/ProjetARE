{
 "cells": [
  {
   "cell_type": "code",
   "execution_count": null,
   "id": "ccdbc113-aceb-4e0c-889a-7c333dd5bbcf",
   "metadata": {},
   "outputs": [],
   "source": [
    "def echange(a,b):\n",
    "    resa = b.strategie(0) #Le résultat au tour 0 de ce que a va recevoir de b\n",
    "    resb = a.strategie(0) #Et inversement (on répétera plusieurs fois des actions de manière analogue)\n",
    "    solda = resb-resa #le solde de a au cours de cet échange\n",
    "    soldb = resa-resb\n",
    "    for i in range(1,10):\n",
    "        resa = b.strategie(i,resa) #Ce que a va recevoir de b au tour i en ajoutant aussi le résultat du tour d'avant pr influencer b\n",
    "        resb = a.strategie(i,resb)\n",
    "        solda+=resb-resa #on ajuste le solde de a en fonction des gains du tour\n",
    "        soldb+=resa-resb\n",
    "    return (solda,soldb)\n",
    "\n"
   ]
  }
 ],
 "metadata": {
  "kernelspec": {
   "display_name": "Python 3 (ipykernel)",
   "language": "python",
   "name": "python3"
  },
  "language_info": {
   "codemirror_mode": {
    "name": "ipython",
    "version": 3
   },
   "file_extension": ".py",
   "mimetype": "text/x-python",
   "name": "python",
   "nbconvert_exporter": "python",
   "pygments_lexer": "ipython3",
   "version": "3.11.2"
  }
 },
 "nbformat": 4,
 "nbformat_minor": 5
}
